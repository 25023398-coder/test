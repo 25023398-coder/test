{
 "cells": [
  {
   "cell_type": "code",
   "execution_count": 4,
   "id": "9fe37bf0-b177-44a7-b9a6-382179098cf1",
   "metadata": {},
   "outputs": [
    {
     "name": "stdin",
     "output_type": "stream",
     "text": [
      "Số nguyên n: 67\n"
     ]
    },
    {
     "name": "stdout",
     "output_type": "stream",
     "text": [
      "Tổng từ 1 đến 67 là: 2278\n"
     ]
    }
   ],
   "source": [
    "#W4A1\n",
    "n = int(input(\"Số nguyên n:\"))\n",
    "tong = 0\n",
    "for i in range(1, n + 1):\n",
    "    tong += i\n",
    "print(\"Tổng từ 1 đến\", n, \"là:\", tong)"
   ]
  },
  {
   "cell_type": "code",
   "execution_count": 8,
   "id": "9a6bc525-f538-44bc-ac2a-70e4c18e1ac7",
   "metadata": {},
   "outputs": [
    {
     "name": "stdin",
     "output_type": "stream",
     "text": [
      "Nhập số nguyên dương: 3\n"
     ]
    },
    {
     "name": "stdout",
     "output_type": "stream",
     "text": [
      "3 là snt\n"
     ]
    }
   ],
   "source": [
    "#W4A2\n",
    "while True:\n",
    "    n = int(input(\"Nhập số nguyên dương:\"))\n",
    "    if n > 0:\n",
    "        break\n",
    "if n < 2:\n",
    "    print(n, \"không phải snt\")\n",
    "else:\n",
    "    for i in range(2, int(n**0.5) + 1):\n",
    "        if n % i == 0:\n",
    "            print(n, \"không phải snt\")\n",
    "            break\n",
    "    else:\n",
    "        print(n, \"là snt\")"
   ]
  },
  {
   "cell_type": "code",
   "execution_count": 17,
   "id": "8ca17b9f-9712-4960-a4fe-0d77906169db",
   "metadata": {},
   "outputs": [
    {
     "name": "stdin",
     "output_type": "stream",
     "text": [
      "Số nguyên n: abc\n"
     ]
    },
    {
     "name": "stdout",
     "output_type": "stream",
     "text": [
      "Lỗi: n không hợp lệ\n"
     ]
    }
   ],
   "source": [
    "#W4A3\n",
    "try:\n",
    "    n = int(input(\"Số nguyên n:\"))\n",
    "    if 0 < n < 100:\n",
    "        giai_thua = 1\n",
    "        for i in range(1, n + 1):\n",
    "             giai_thua *= i\n",
    "             print(giai_thua)\n",
    "    else:\n",
    "        print(\"n sai dữ liệu\")\n",
    "except ValueError:\n",
    "    print(\"Lỗi: n không hợp lệ\")"
   ]
  },
  {
   "cell_type": "code",
   "execution_count": 10,
   "id": "3569f1f9-0e5d-4f93-a75c-282b13c25a5d",
   "metadata": {},
   "outputs": [
    {
     "name": "stdin",
     "output_type": "stream",
     "text": [
      "Số nguyên: -789\n"
     ]
    },
    {
     "name": "stdout",
     "output_type": "stream",
     "text": [
      "Số chữ số là: 3\n"
     ]
    }
   ],
   "source": [
    "#W4A4\n",
    "n = int(input(\"Số nguyên:\"))\n",
    "if n < 0:\n",
    "    n = -n\n",
    "if n == 0:\n",
    "    count = 1\n",
    "else:\n",
    "    count = 0\n",
    "    while n > 0:\n",
    "        n = n // 10\n",
    "        count += 1\n",
    "print(\"Số chữ số là:\", count)"
   ]
  },
  {
   "cell_type": "code",
   "execution_count": 27,
   "id": "f092b9c4-7dc7-4c64-9e15-adc482454c22",
   "metadata": {},
   "outputs": [
    {
     "name": "stdin",
     "output_type": "stream",
     "text": [
      "Số nguyên dương n: 3\n",
      " 4\n",
      " 2\n",
      " 42\n"
     ]
    },
    {
     "name": "stdout",
     "output_type": "stream",
     "text": [
      "I've found the meaning of life!\n",
      "It's a joke!\n"
     ]
    }
   ],
   "source": [
    "#W4A5\n",
    "try:\n",
    "    n = int(input(\"Số nguyên dương n:\"))\n",
    "    if n <= 0:\n",
    "        print(\"n không phải snd\")\n",
    "    else:\n",
    "        danhsach = []\n",
    "        for i in range(n):\n",
    "            so = int(input())\n",
    "            danhsach.append(so)\n",
    "            if 42 in danhsach:\n",
    "               print(\"I've found the meaning of life!\")\n",
    "        else:\n",
    "            print(\"It's a joke!\")\n",
    "except ValueError:\n",
    "    print(\"Lỗi\")"
   ]
  },
  {
   "cell_type": "code",
   "execution_count": 50,
   "id": "ba8fa44d-b009-4cfa-bda5-34f14b02dc48",
   "metadata": {},
   "outputs": [
    {
     "name": "stdin",
     "output_type": "stream",
     "text": [
      " 234\n",
      " 5567\n"
     ]
    },
    {
     "name": "stdout",
     "output_type": "stream",
     "text": [
      "Tổng các số nguyên tố trong [234, 5567] là:1886539\n"
     ]
    }
   ],
   "source": [
    "#W4A6\n",
    "try:\n",
    "    a = int(input())\n",
    "    b = int(input())\n",
    "    if a <= 0 or b <= 0 or a > b:\n",
    "        print(\"a, b không hợp lệ\")\n",
    "    else:\n",
    "        tong = 0\n",
    "        for n in range(a, b + 1):\n",
    "            if n < 2:\n",
    "                continue\n",
    "            flag = True\n",
    "            for i in range(2, int(n**0.5)+1):\n",
    "                if n % i == 0:\n",
    "                    flag = False\n",
    "                    break\n",
    "            if flag:\n",
    "                tong += n\n",
    "        print(\"Tổng các số nguyên tố trong [{}, {}] là:{}\".format(a, b, tong))\n",
    "except ValueError:\n",
    "    print(\"Lỗi\")"
   ]
  },
  {
   "cell_type": "code",
   "execution_count": null,
   "id": "cc37f067-08dc-4b78-9118-5c55f2775262",
   "metadata": {},
   "outputs": [],
   "source": [
    "#W4A7\n",
    "try:\n",
    "    n = int(input())\n",
    "    if n < 2:\n",
    "        print(\"Sai đkien\")\n",
    "    else:\n",
    "        uoc = 1\n",
    "        for i in range(1, n + 1):\n",
    "            while n%i==0:\n",
    "                uoc = i\n",
    "                n = n // i\n",
    "        print(\"UNTLN:\", uoc)\n",
    "except ValueError:\n",
    "    print(\"Lỗi\")"
   ]
  },
  {
   "cell_type": "code",
   "execution_count": 32,
   "id": "7ffad8e7-ca8b-4c3a-9858-6d08c97fcc82",
   "metadata": {},
   "outputs": [
    {
     "name": "stdin",
     "output_type": "stream",
     "text": [
      "Số nguyên dương n: 8\n"
     ]
    },
    {
     "name": "stdout",
     "output_type": "stream",
     "text": [
      "Số lượng ước chẵn của 8 là: 3\n"
     ]
    }
   ],
   "source": [
    "#WA11\n",
    "try:\n",
    "    n = int(input(\"Số nguyên dương n:\"))\n",
    "    if n <= 0 or n >= 10**6:\n",
    "        print(\"Sai đkien\")\n",
    "    else:\n",
    "        dem = 0\n",
    "        for i in range(1, n + 1):\n",
    "            if n % i == 0 and i % 2 == 0:\n",
    "                dem += 1\n",
    "        print(\"Số lượng ước chẵn của\", n, \"là:\", dem)\n",
    "except ValueError:\n",
    "    print(\"Lỗi\")"
   ]
  },
  {
   "cell_type": "code",
   "execution_count": 35,
   "id": "3fc08849-c029-496d-9918-14c2a234955e",
   "metadata": {},
   "outputs": [
    {
     "name": "stdin",
     "output_type": "stream",
     "text": [
      "Tiền gửi vào: 500000\n",
      "Số tháng gửi: 5\n"
     ]
    },
    {
     "name": "stdout",
     "output_type": "stream",
     "text": [
      "Tiền nhận được: 517746\n"
     ]
    }
   ],
   "source": [
    "#WA12\n",
    "try:\n",
    "    A = int(input(\"Tiền gửi vào:\"))\n",
    "    n = int(input(\"Số tháng gửi:\"))\n",
    "    \n",
    "    if A <= 0 or n <= 0:\n",
    "        print(\"Không hợp lệ\")\n",
    "    else:\n",
    "        for i in range(n):\n",
    "            A += A * 0.007  \n",
    "        print(\"Tiền nhận được:\", int(A))  \n",
    "except ValueError:\n",
    "    print(\"Lỗi\")"
   ]
  },
  {
   "cell_type": "code",
   "execution_count": 38,
   "id": "c69f212a-d4a5-4f8d-a121-500dc607dd9a",
   "metadata": {},
   "outputs": [
    {
     "name": "stdin",
     "output_type": "stream",
     "text": [
      " 220\n",
      " 284\n"
     ]
    },
    {
     "name": "stdout",
     "output_type": "stream",
     "text": [
      "true\n"
     ]
    }
   ],
   "source": [
    "#WA13\n",
    "try:\n",
    "    a = int(input())\n",
    "    b = int(input())\n",
    "    if a <= 0 or b <= 0:\n",
    "        print(\"false\")\n",
    "    else:\n",
    "        tong_a = 0\n",
    "        for i in range(1, a):\n",
    "            if a % i == 0:\n",
    "                tong_a += i\n",
    "        tong_b = 0\n",
    "        for i in range(1, b):\n",
    "            if b % i == 0:\n",
    "                tong_b += i\n",
    "        if tong_a == b and tong_b == a:\n",
    "            print(\"true\")\n",
    "        else:\n",
    "            print(\"false\")\n",
    "except ValueError:\n",
    "    print(\"Lỗi\")"
   ]
  },
  {
   "cell_type": "code",
   "execution_count": 41,
   "id": "93ae97ed-ef24-4720-856f-fe58ed627f43",
   "metadata": {},
   "outputs": [
    {
     "name": "stdin",
     "output_type": "stream",
     "text": [
      " 60\n",
      " 90\n"
     ]
    },
    {
     "name": "stdout",
     "output_type": "stream",
     "text": [
      "Ước chung lớn nhất: 30\n"
     ]
    }
   ],
   "source": [
    "#WA14\n",
    "try:\n",
    "    m = int(input())\n",
    "    n = int(input())\n",
    "    if m <= 0 or n <= 0:\n",
    "        print(\"Sai đkien\")\n",
    "    else:\n",
    "        ketqua = 1\n",
    "        for i in range(1, min(m, n) + 1):\n",
    "            if m % i == 0 and n % i == 0:\n",
    "                ketqua = i\n",
    "        print(\"Ước chung lớn nhất:\", ketqua)\n",
    "except ValueError:\n",
    "    print(\"Lỗi\")"
   ]
  },
  {
   "cell_type": "code",
   "execution_count": 44,
   "id": "6d78abf1-a74a-41bc-ad35-d9a73b1ee3a8",
   "metadata": {},
   "outputs": [
    {
     "name": "stdin",
     "output_type": "stream",
     "text": [
      " 36\n",
      " 100\n"
     ]
    },
    {
     "name": "stdout",
     "output_type": "stream",
     "text": [
      "Số gà: 22\n",
      "Số chó: 14\n"
     ]
    }
   ],
   "source": [
    "#WA15\n",
    "try:\n",
    "    tongcon = int(input())\n",
    "    tongchan = int(input())\n",
    "    if tongcon <= 0 or tongchan <= 0:\n",
    "        print(\"invalid\")\n",
    "    else:\n",
    "        x = (4*tongcon - tongchan)//2\n",
    "        y = tongcon - x\n",
    "        if x >= 0 and y >= 0 and 2 * x + 4 * y == tongchan:\n",
    "            print(\"Số gà:\", x)\n",
    "            print(\"Số chó:\", y)\n",
    "        else:\n",
    "            print(\"invalid\")\n",
    "except ValueError:\n",
    "    print(\"Lỗi\")"
   ]
  }
 ],
 "metadata": {
  "kernelspec": {
   "display_name": "Python 3 (ipykernel)",
   "language": "python",
   "name": "python3"
  },
  "language_info": {
   "codemirror_mode": {
    "name": "ipython",
    "version": 3
   },
   "file_extension": ".py",
   "mimetype": "text/x-python",
   "name": "python",
   "nbconvert_exporter": "python",
   "pygments_lexer": "ipython3",
   "version": "3.13.5"
  }
 },
 "nbformat": 4,
 "nbformat_minor": 5
}

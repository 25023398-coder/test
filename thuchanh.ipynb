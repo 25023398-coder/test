{
 "cells": [
  {
   "cell_type": "code",
   "execution_count": 5,
   "id": "06e6e778-91f5-44a3-9d95-79a1bf545bac",
   "metadata": {},
   "outputs": [
    {
     "name": "stdout",
     "output_type": "stream",
     "text": [
      "1759225824.304781\n",
      "20361.0\n",
      "9.0\n",
      "50.0\n",
      "24.304780960083008\n"
     ]
    }
   ],
   "source": [
    "from time import time\n",
    "now = time()\n",
    "print(now)\n",
    "seconds_per_day = 24 * 60 * 60\n",
    "days = now // seconds_per_day\n",
    "print(days)\n",
    "remainder = now % seconds_per_day\n",
    "hours = remainder // 3600\n",
    "print(hours)\n",
    "remainder = remainder % 3600\n",
    "minutes = remainder // 60\n",
    "print(minutes)\n",
    "seconds = remainder % 60\n",
    "print(seconds)"
   ]
  },
  {
   "cell_type": "code",
   "execution_count": 11,
   "id": "2f8cbedc-b667-4017-9b8a-3c3563c29d28",
   "metadata": {},
   "outputs": [
    {
     "name": "stdout",
     "output_type": "stream",
     "text": [
      "Yes\n"
     ]
    }
   ],
   "source": [
    "def is_triangle(a, b, c):\n",
    "    if a > b + c:\n",
    "        print('No')\n",
    "    elif b > a + c:\n",
    "        print('No')\n",
    "    elif c > a + b:\n",
    "        print('No')\n",
    "    else:\n",
    "        print('Yes')\n",
    "is_triangle(4, 5, 6)"
   ]
  },
  {
   "cell_type": "code",
   "execution_count": 18,
   "id": "733155c9-4336-4f3f-94d1-7a993a244d04",
   "metadata": {},
   "outputs": [],
   "source": [
    "import turtle\n",
    "t = turtle.Turtle()\n",
    "t.forward(100)"
   ]
  }
 ],
 "metadata": {
  "kernelspec": {
   "display_name": "Python 3 (ipykernel)",
   "language": "python",
   "name": "python3"
  },
  "language_info": {
   "codemirror_mode": {
    "name": "ipython",
    "version": 3
   },
   "file_extension": ".py",
   "mimetype": "text/x-python",
   "name": "python",
   "nbconvert_exporter": "python",
   "pygments_lexer": "ipython3",
   "version": "3.13.5"
  }
 },
 "nbformat": 4,
 "nbformat_minor": 5
}

{
 "cells": [
  {
   "cell_type": "code",
   "execution_count": 2,
   "id": "445d772b-cc81-4f2a-a774-f9e30fc91e18",
   "metadata": {},
   "outputs": [
    {
     "name": "stdin",
     "output_type": "stream",
     "text": [
      "Số nguyên n là:  7\n"
     ]
    },
    {
     "name": "stdout",
     "output_type": "stream",
     "text": [
      "Số gấp đôi của n là: 14\n"
     ]
    }
   ],
   "source": [
    "#bài1\n",
    "n = int(input(\"Số nguyên n là: \"))\n",
    "print(\"Số gấp đôi của n là:\", n*2)"
   ]
  },
  {
   "cell_type": "code",
   "execution_count": 4,
   "id": "bda45ef0-b9b3-48d7-acf0-89373b2352d4",
   "metadata": {},
   "outputs": [
    {
     "name": "stdin",
     "output_type": "stream",
     "text": [
      "Chiều rộng a là: 8\n",
      "Chiều dài b là : 9\n"
     ]
    },
    {
     "name": "stdout",
     "output_type": "stream",
     "text": [
      "Diện tích mảnh vườn là: 21.76\n"
     ]
    }
   ],
   "source": [
    "#bài2\n",
    "a = float(input(\"Chiều rộng a là:\"))\n",
    "b = float(input(\"Chiều dài b là :\"))\n",
    "\n",
    "dien_tich_hinh_chu_nhat = a*b\n",
    "ban_kinh_hinh_tron = min(a, b)/2\n",
    "dien_tich_hinh_tron = 3.14*ban_kinh_hinh_tron**2\n",
    "dien_tich_manh_vuon = dien_tich_hinh_chu_nhat - dien_tich_hinh_tron\n",
    "\n",
    "print(\"Diện tích mảnh vườn là:\", round(dien_tich_manh_vuon, 2))"
   ]
  },
  {
   "cell_type": "code",
   "execution_count": 11,
   "id": "be3ff146-78e6-428e-8bf2-290612d35ebc",
   "metadata": {},
   "outputs": [
    {
     "name": "stdin",
     "output_type": "stream",
     "text": [
      " H\n"
     ]
    },
    {
     "name": "stdout",
     "output_type": "stream",
     "text": [
      "Chữ thường tương ứng là: h\n"
     ]
    }
   ],
   "source": [
    "#bài3\n",
    "char = input()\n",
    "\n",
    "if char.isupper():\n",
    "    print(\"Chữ thường tương ứng là:\", char.lower())\n",
    "elif char.islower():\n",
    "    print(\"Chữ hoa tương ứng là:\", char.upper())\n",
    "\n",
    "else:\n",
    "    print(\"Kí tự không phải chữ cái\")"
   ]
  },
  {
   "cell_type": "code",
   "execution_count": 14,
   "id": "195f00ae-516e-439d-888d-e1bf08f2870f",
   "metadata": {},
   "outputs": [
    {
     "name": "stdin",
     "output_type": "stream",
     "text": [
      " 7\n"
     ]
    },
    {
     "name": "stdout",
     "output_type": "stream",
     "text": [
      "7 không phải kí tự alphabet\n"
     ]
    }
   ],
   "source": [
    "#bài4\n",
    "char = input()\n",
    "if char.isalpha():\n",
    "    print(f\"{char} là kí tự alphabet\")\n",
    "else:\n",
    "    print(f\"{char} không phải kí tự alphabet\")"
   ]
  },
  {
   "cell_type": "code",
   "execution_count": 16,
   "id": "48ff243b-3179-4940-9939-d8308aa2e4a4",
   "metadata": {},
   "outputs": [
    {
     "name": "stdin",
     "output_type": "stream",
     "text": [
      " J\n"
     ]
    },
    {
     "name": "stdout",
     "output_type": "stream",
     "text": [
      "Chữ cái thường đứng trước J là: i\n"
     ]
    }
   ],
   "source": [
    "#bài5\n",
    "char = input()\n",
    "\n",
    "if char == \"A\":\n",
    "    print(\"Không có chữ cái thường đứng trước\")\n",
    "\n",
    "thuong = char.lower()\n",
    "truoc = chr(ord(thuong)-1)\n",
    "\n",
    "print(f\"Chữ cái thường đứng trước {char} là:\", truoc)"
   ]
  },
  {
   "cell_type": "code",
   "execution_count": 22,
   "id": "304733c5-cd59-454a-a92c-ac030d1842c4",
   "metadata": {
    "scrolled": true
   },
   "outputs": [
    {
     "name": "stdin",
     "output_type": "stream",
     "text": [
      "Độ dài cạnh a là: 3\n",
      "Độ dài cạnh b là: 4\n",
      "Độ dài cạnh c là: 5\n"
     ]
    },
    {
     "name": "stdout",
     "output_type": "stream",
     "text": [
      "3.0, 4.0, 5.0 là độ dài 3 cạnh của một tam giác\n"
     ]
    }
   ],
   "source": [
    "#bài6\n",
    "\n",
    "a = float(input(\"Độ dài cạnh a là:\"))\n",
    "b = float(input(\"Độ dài cạnh b là:\"))\n",
    "c = float(input(\"Độ dài cạnh c là:\"))\n",
    "\n",
    "if (a+b)>c and (a+c)>b and (b+c)>a:\n",
    "    print(f\"{round(a, 1)}, {round(b, 1)}, {round(c, 1)} là độ dài 3 cạnh của một tam giác\")\n",
    "\n",
    "else:\n",
    "    print(\"Đây không phải độ dài 3 cạnh của một tam giác\")"
   ]
  },
  {
   "cell_type": "code",
   "execution_count": 2,
   "id": "a758edf9-2845-4f76-b951-fc463e4535ed",
   "metadata": {},
   "outputs": [
    {
     "name": "stdin",
     "output_type": "stream",
     "text": [
      " qưertyuiopasdfghjklzxcvbnm\n",
      " 5\n",
      " 9\n"
     ]
    },
    {
     "name": "stdout",
     "output_type": "stream",
     "text": [
      "ký tự ở cị trí 5 là: y\n",
      "ký tự ở vị trí 9 là: p\n"
     ]
    }
   ],
   "source": [
    "#bài7\n",
    "chuoi = input()\n",
    "if len(chuoi)<20:\n",
    "    print(\"Không thỏa mãn\")\n",
    "else:\n",
    "    m = int(input())\n",
    "    n = int(input())\n",
    "    if m < len(chuoi) and n < len(chuoi):\n",
    "        print(f\"ký tự ở cị trí {m} là:\", chuoi[m])\n",
    "        print(f\"ký tự ở vị trí {n} là:\", chuoi[n])\n",
    "    else:\n",
    "        print(\"Ký tự không hợp lệ\")\n"
   ]
  },
  {
   "cell_type": "code",
   "execution_count": 13,
   "id": "3521d5fc-b537-4fbe-9955-ae8efb31cbb9",
   "metadata": {},
   "outputs": [
    {
     "name": "stdin",
     "output_type": "stream",
     "text": [
      " Pham Xuan Toai\n",
      " 1020\n",
      " 1070\n"
     ]
    },
    {
     "name": "stdout",
     "output_type": "stream",
     "text": [
      "Tên chủ hộ: Pham Xuan Toai\n",
      "Chỉ số tháng trước: 1020\n",
      "Chỉ số tháng sau: 1070\n",
      "Số điện đã sử dụng: 50\n",
      "Số tiền phải trả: 107136\n"
     ]
    }
   ],
   "source": [
    "#bài8\n",
    "ten_chu_ho = input()\n",
    "chi_so_truoc = int(input())\n",
    "chi_so_sau = int(input())\n",
    "bac_gia = [\n",
    "        (50, 1984),\n",
    "        (50, 2050),\n",
    "        (100, 2380),\n",
    "        (100, 2998),\n",
    "        (100, 3350),\n",
    "        (float('inf'), 3460)\n",
    "]\n",
    "so_dien = chi_so_sau - chi_so_truoc\n",
    "tien_truoc_VAT=0\n",
    "con_lai = so_dien\n",
    "for so_kwh_bac, gia_bac in bac_gia:\n",
    "    if so_kwh_bac<=0:\n",
    "        break\n",
    "    dung_kwh = min(con_lai, so_kwh_bac)\n",
    "    tien_truoc_VAT += dung_kwh*gia_bac\n",
    "    con_lai -= dung_kwh\n",
    "tong_tien = round(tien_truoc_VAT*1.08)\n",
    "print(\"Tên chủ hộ:\", ten_chu_ho)\n",
    "print(\"Chỉ số tháng trước:\", chi_so_truoc)\n",
    "print(\"Chỉ số tháng sau:\", chi_so_sau)\n",
    "print(\"Số điện đã sử dụng:\", so_dien)\n",
    "print(\"Số tiền phải trả:\", tong_tien)"
   ]
  },
  {
   "cell_type": "code",
   "execution_count": 15,
   "id": "344c8c8e-b83f-4bc0-b4e7-dc2784cc56af",
   "metadata": {},
   "outputs": [
    {
     "name": "stdin",
     "output_type": "stream",
     "text": [
      " 4\n"
     ]
    },
    {
     "name": "stdout",
     "output_type": "stream",
     "text": [
      "4 là số chẵn\n"
     ]
    }
   ],
   "source": [
    "#1\n",
    "n = int(input())\n",
    "if n%2==0:\n",
    "    print(n, \"là số chẵn\")\n",
    "else:\n",
    "    print(n, \"là số lẻ\")"
   ]
  },
  {
   "cell_type": "code",
   "execution_count": 18,
   "id": "7eba51b4-3d97-4243-a49b-562caf3c273a",
   "metadata": {},
   "outputs": [
    {
     "name": "stdin",
     "output_type": "stream",
     "text": [
      " 5\n"
     ]
    },
    {
     "name": "stdout",
     "output_type": "stream",
     "text": [
      "5 True\n"
     ]
    }
   ],
   "source": [
    "#2\n",
    "n = int(input())\n",
    "if n%10==5:\n",
    "    print(n, \"True\")\n",
    "else:\n",
    "    print(n, \"False\")"
   ]
  },
  {
   "cell_type": "code",
   "execution_count": 22,
   "id": "76260c1d-933d-4273-b206-b034546e7919",
   "metadata": {},
   "outputs": [
    {
     "name": "stdin",
     "output_type": "stream",
     "text": [
      " 15\n"
     ]
    },
    {
     "name": "stdout",
     "output_type": "stream",
     "text": [
      "True\n"
     ]
    }
   ],
   "source": [
    "#3\n",
    "n = int(input())\n",
    "if n%3==0 and n%5==0:\n",
    "    print(\"True\")\n",
    "else:\n",
    "    print(\"False\")"
   ]
  },
  {
   "cell_type": "code",
   "execution_count": 25,
   "id": "01b95c2f-264b-42bc-a6a0-7c415601ea44",
   "metadata": {},
   "outputs": [
    {
     "name": "stdin",
     "output_type": "stream",
     "text": [
      " 2006\n"
     ]
    },
    {
     "name": "stdout",
     "output_type": "stream",
     "text": [
      "Đủ điều kiện\n"
     ]
    }
   ],
   "source": [
    "#4\n",
    "nam_sinh = int(input())\n",
    "tuoi = 2025 - nam_sinh\n",
    "if tuoi >= 18:\n",
    "    print(\"Đủ điều kiện\")\n",
    "else:\n",
    "    print(\"Không đủ điều kiện\")"
   ]
  },
  {
   "cell_type": "code",
   "execution_count": 28,
   "id": "fe378c67-8ba5-4cc1-a380-66930fef9667",
   "metadata": {},
   "outputs": [
    {
     "name": "stdin",
     "output_type": "stream",
     "text": [
      " 5 \n",
      " 5\n"
     ]
    },
    {
     "name": "stdout",
     "output_type": "stream",
     "text": [
      "5.0 và 5.0 bằng nhau\n"
     ]
    }
   ],
   "source": [
    "#5\n",
    "a = float(input())\n",
    "b = float(input())\n",
    "if a>b:\n",
    "    print(a, \"là số lớn hơn\")\n",
    "elif a<b:\n",
    "    print(b, \"là số lớn hơn\")\n",
    "elif a==b:\n",
    "    print(a, \"và\", b, \"bằng nhau\")"
   ]
  },
  {
   "cell_type": "code",
   "execution_count": 30,
   "id": "fcc7898a-767b-4fbe-802b-9b73e493024b",
   "metadata": {},
   "outputs": [
    {
     "name": "stdin",
     "output_type": "stream",
     "text": [
      " 3\n"
     ]
    },
    {
     "name": "stdout",
     "output_type": "stream",
     "text": [
      "3 là một chữ số\n"
     ]
    }
   ],
   "source": [
    "#6\n",
    "n = input()\n",
    "if n.isdigit():\n",
    "    print(n, \"là một chữ số\")\n",
    "elif n.isalpha():\n",
    "    print(n, \"là một chữ cái\")"
   ]
  },
  {
   "cell_type": "code",
   "execution_count": 31,
   "id": "27ef1ec7-b09e-4a36-acf5-03908f22cdf1",
   "metadata": {},
   "outputs": [
    {
     "name": "stdin",
     "output_type": "stream",
     "text": [
      " 5.7\n"
     ]
    },
    {
     "name": "stdout",
     "output_type": "stream",
     "text": [
      "Trung bình\n"
     ]
    }
   ],
   "source": [
    "#7\n",
    "diem = float(input())\n",
    "if diem >= 8:\n",
    "    print(\"Giỏi\")\n",
    "elif diem < 8 and diem >= 6.5:\n",
    "    print(\"Khá\")\n",
    "elif diem < 6.5 and diem >= 5:\n",
    "    print(\"Trung bình\")\n",
    "elif diem < 5:\n",
    "    print(\"Yếu\")"
   ]
  },
  {
   "cell_type": "code",
   "execution_count": 34,
   "id": "9b943071-aba2-4e8e-9d49-64ab81b85b0e",
   "metadata": {},
   "outputs": [
    {
     "name": "stdin",
     "output_type": "stream",
     "text": [
      " 400\n"
     ]
    },
    {
     "name": "stdout",
     "output_type": "stream",
     "text": [
      "400 là năm nhuận\n"
     ]
    }
   ],
   "source": [
    "#8\n",
    "n = int(input())\n",
    "if n%400==0:\n",
    "    print(n, \"là năm nhuận\")\n",
    "else:\n",
    "    print(n, \"không phải là năm nhuận\")"
   ]
  },
  {
   "cell_type": "code",
   "execution_count": 39,
   "id": "0ff61ffe-5abb-45c9-959d-9cfb6c099df6",
   "metadata": {},
   "outputs": [
    {
     "name": "stdin",
     "output_type": "stream",
     "text": [
      " 7\n"
     ]
    },
    {
     "name": "stdout",
     "output_type": "stream",
     "text": [
      "Bảy\n"
     ]
    }
   ],
   "source": [
    "#9\n",
    "n = int(input())\n",
    "match n:\n",
    "    case 0:\n",
    "        print(\"Không\")\n",
    "    case 1:\n",
    "        print(\"Một\")\n",
    "    case 2:\n",
    "        print(\"Hai\")\n",
    "    case 3:\n",
    "        print(\"Ba\")\n",
    "    case 4:\n",
    "        print(\"Bốn\")\n",
    "    case 5:\n",
    "        print(\"Năm\")\n",
    "    case 6:\n",
    "        print(\"Sáu\")\n",
    "    case 7:\n",
    "        print(\"Bảy\")\n",
    "    case 8:\n",
    "        print(\"Tám\")\n",
    "    case 9:\n",
    "        print(\"Chín\")"
   ]
  },
  {
   "cell_type": "code",
   "execution_count": 40,
   "id": "bbbbed4e-983d-4171-af5e-3b59e9a13aaa",
   "metadata": {},
   "outputs": [
    {
     "name": "stdin",
     "output_type": "stream",
     "text": [
      " 5\n"
     ]
    },
    {
     "name": "stdout",
     "output_type": "stream",
     "text": [
      "Qua môn\n"
     ]
    }
   ],
   "source": [
    "#10\n",
    "diem_thi = float(input())\n",
    "if diem_thi >= 4:\n",
    "    print(\"Qua môn\")\n",
    "else:\n",
    "    print(\"Học lại\")"
   ]
  },
  {
   "cell_type": "code",
   "execution_count": 43,
   "id": "6c238071-0a51-4903-9e0e-4e9a39f6c3d2",
   "metadata": {},
   "outputs": [
    {
     "name": "stdin",
     "output_type": "stream",
     "text": [
      " 2024\n"
     ]
    },
    {
     "name": "stdout",
     "output_type": "stream",
     "text": [
      "Chưa đủ tuổi\n"
     ]
    }
   ],
   "source": [
    "#11\n",
    "nam_sinh = int(input())\n",
    "tuoi = 2025 - nam_sinh\n",
    "if tuoi >= 18:\n",
    "    print(\"Đủ tuổi\")\n",
    "else:\n",
    "    print(\"Chưa đủ tuổi\")"
   ]
  },
  {
   "cell_type": "code",
   "execution_count": 1,
   "id": "e0c98bbb-e8c0-4e36-b8e8-c6f6d8cce67d",
   "metadata": {},
   "outputs": [
    {
     "name": "stdout",
     "output_type": "stream",
     "text": [
      "Hello world\n"
     ]
    }
   ],
   "source": [
    "print(\"Hello world\")"
   ]
  }
 ],
 "metadata": {
  "kernelspec": {
   "display_name": "Python 3 (ipykernel)",
   "language": "python",
   "name": "python3"
  },
  "language_info": {
   "codemirror_mode": {
    "name": "ipython",
    "version": 3
   },
   "file_extension": ".py",
   "mimetype": "text/x-python",
   "name": "python",
   "nbconvert_exporter": "python",
   "pygments_lexer": "ipython3",
   "version": "3.13.5"
  }
 },
 "nbformat": 4,
 "nbformat_minor": 5
}

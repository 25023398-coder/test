{
 "cells": [
  {
   "cell_type": "code",
   "execution_count": 2,
   "id": "32fa9cee-4856-4b7a-8022-60ddcbc9aa8c",
   "metadata": {},
   "outputs": [
    {
     "name": "stdout",
     "output_type": "stream",
     "text": [
      "12\n"
     ]
    }
   ],
   "source": [
    "#W1A1\n",
    "a = 7\n",
    "b = 5\n",
    "c = a + b\n",
    "print(c)"
   ]
  },
  {
   "cell_type": "code",
   "execution_count": 18,
   "id": "94b0825c-50c1-462e-909d-c40528f983df",
   "metadata": {},
   "outputs": [],
   "source": [
    "del print"
   ]
  },
  {
   "cell_type": "code",
   "execution_count": 19,
   "id": "e1609c3e-43b7-4975-9cd1-4147da311a68",
   "metadata": {},
   "outputs": [
    {
     "name": "stdout",
     "output_type": "stream",
     "text": [
      "Thành phố: Hà Nội - Năm: 2025\n"
     ]
    }
   ],
   "source": [
    "#W1A2\n",
    "city = \"Hà Nội\"\n",
    "year = 2025\n",
    "print(\"Thành phố:\", city, \"- Năm:\", year)"
   ]
  },
  {
   "cell_type": "code",
   "execution_count": 21,
   "id": "c19ba1d0-40aa-492f-909a-68ee81d0d2b5",
   "metadata": {},
   "outputs": [
    {
     "name": "stdout",
     "output_type": "stream",
     "text": [
      "10\n"
     ]
    }
   ],
   "source": [
    "#W1A3\n",
    "n = 4\n",
    "t = 0\n",
    "for i in range(1, n+1):\n",
    "    t+=i\n",
    "print(t)"
   ]
  },
  {
   "cell_type": "code",
   "execution_count": 27,
   "id": "2abd6c44-3f60-4b34-880a-3ae87df2a7dd",
   "metadata": {},
   "outputs": [
    {
     "name": "stdout",
     "output_type": "stream",
     "text": [
      "2 là số chẵn\n",
      "4 là số chẵn\n"
     ]
    }
   ],
   "source": [
    "#W1A4\n",
    "numbers = [1, 2, 3, 4]\n",
    "for x in numbers:\n",
    "    if x%2==0:\n",
    "        print(x, \"là số chẵn\")"
   ]
  },
  {
   "cell_type": "code",
   "execution_count": 28,
   "id": "c30e9da6-51f1-4491-b5a9-552a5f84d482",
   "metadata": {},
   "outputs": [
    {
     "name": "stdout",
     "output_type": "stream",
     "text": [
      "Số phần tử trong danh sách là: 4\n"
     ]
    }
   ],
   "source": [
    "#W1A5\n",
    "animals = [\"cat\",\"dog\",\"cat\",\"bird\"]\n",
    "count = 0\n",
    "for a in animals:\n",
    "    count += 1\n",
    "print(\"Số phần tử trong danh sách là:\", count)"
   ]
  },
  {
   "cell_type": "code",
   "execution_count": 29,
   "id": "7ab98315-4d86-4cff-9284-12d4d09e323f",
   "metadata": {},
   "outputs": [
    {
     "name": "stdout",
     "output_type": "stream",
     "text": [
      "=== AI prediction ecosystem ===\n",
      "1) Sentiment analysis\n",
      "2) Weather forecast\n",
      "3) Exit\n"
     ]
    },
    {
     "name": "stdin",
     "output_type": "stream",
     "text": [
      "please choose an option (1-3):  1\n"
     ]
    },
    {
     "name": "stdout",
     "output_type": "stream",
     "text": [
      "Running sentiment analysis\n"
     ]
    },
    {
     "name": "stdin",
     "output_type": "stream",
     "text": [
      "Enter a sentence to analyze:  good\n"
     ]
    },
    {
     "name": "stdout",
     "output_type": "stream",
     "text": [
      "Sentiment: Positive\n",
      "\n",
      "\n",
      "=== AI prediction ecosystem ===\n",
      "1) Sentiment analysis\n",
      "2) Weather forecast\n",
      "3) Exit\n"
     ]
    },
    {
     "name": "stdin",
     "output_type": "stream",
     "text": [
      "please choose an option (1-3):  1\n"
     ]
    },
    {
     "name": "stdout",
     "output_type": "stream",
     "text": [
      "Running sentiment analysis\n"
     ]
    },
    {
     "name": "stdin",
     "output_type": "stream",
     "text": [
      "Enter a sentence to analyze:  bad\n"
     ]
    },
    {
     "name": "stdout",
     "output_type": "stream",
     "text": [
      "Sentiment: Negative\n",
      "\n",
      "\n",
      "=== AI prediction ecosystem ===\n",
      "1) Sentiment analysis\n",
      "2) Weather forecast\n",
      "3) Exit\n"
     ]
    },
    {
     "name": "stdin",
     "output_type": "stream",
     "text": [
      "please choose an option (1-3):  1\n"
     ]
    },
    {
     "name": "stdout",
     "output_type": "stream",
     "text": [
      "Running sentiment analysis\n"
     ]
    },
    {
     "name": "stdin",
     "output_type": "stream",
     "text": [
      "Enter a sentence to analyze:  meh\n"
     ]
    },
    {
     "name": "stdout",
     "output_type": "stream",
     "text": [
      "Sentiment: Neutral\n",
      "\n",
      "\n",
      "=== AI prediction ecosystem ===\n",
      "1) Sentiment analysis\n",
      "2) Weather forecast\n",
      "3) Exit\n"
     ]
    },
    {
     "name": "stdin",
     "output_type": "stream",
     "text": [
      "please choose an option (1-3):  2\n"
     ]
    },
    {
     "name": "stdout",
     "output_type": "stream",
     "text": [
      "Running weather forecast\n"
     ]
    },
    {
     "name": "stdin",
     "output_type": "stream",
     "text": [
      "Enter your city:  Ha Noi\n"
     ]
    },
    {
     "name": "stdout",
     "output_type": "stream",
     "text": [
      "The weather in {location} tomorrow will be sunny with the high of 30'C\n",
      "\n",
      "\n",
      "=== AI prediction ecosystem ===\n",
      "1) Sentiment analysis\n",
      "2) Weather forecast\n",
      "3) Exit\n"
     ]
    },
    {
     "name": "stdin",
     "output_type": "stream",
     "text": [
      "please choose an option (1-3):  3\n"
     ]
    },
    {
     "name": "stdout",
     "output_type": "stream",
     "text": [
      "Existing. Goodbye!\n"
     ]
    }
   ],
   "source": [
    "### W1A6\n",
    "while True:\n",
    "    print(\"=== AI prediction ecosystem ===\")\n",
    "    print(\"1) Sentiment analysis\")\n",
    "    print(\"2) Weather forecast\")\n",
    "    print(\"3) Exit\")\n",
    "\n",
    "    choice = input(\"please choose an option (1-3): \")\n",
    "\n",
    "    if choice == \"1\":\n",
    "        print(\"Running sentiment analysis\")\n",
    "        \n",
    "        text = input(\"Enter a sentence to analyze: \")\n",
    "        if \"good\" in text.lower():\n",
    "            print(\"Sentiment: Positive\")\n",
    "        elif \"bad\" in text.lower():\n",
    "            print(\"Sentiment: Negative\")\n",
    "        else:\n",
    "            print(\"Sentiment: Neutral\")\n",
    "    \n",
    "    elif choice == \"2\":\n",
    "        print(\"Running weather forecast\")\n",
    "\n",
    "        location = input(\"Enter your city: \")\n",
    "        print(\"The weather in {location} tomorrow will be sunny with the high of 30'C\")\n",
    "\n",
    "    elif choice == \"3\":\n",
    "        print(\"Existing. Goodbye!\")\n",
    "        break\n",
    "\n",
    "    else:\n",
    "        print(\"Invalid answer. Please choose 1, 2 or 3.\")\n",
    "    \n",
    "    print(\"\\n\")"
   ]
  },
  {
   "cell_type": "code",
   "execution_count": 34,
   "id": "56cdb7ad-bcc3-48ba-802c-8e6fb55a99e6",
   "metadata": {},
   "outputs": [
    {
     "name": "stdin",
     "output_type": "stream",
     "text": [
      "Nhập số:  3\n"
     ]
    },
    {
     "name": "stdout",
     "output_type": "stream",
     "text": [
      "Số lẻ\n"
     ]
    }
   ],
   "source": [
    "#W1A7\n",
    "num = int(input(\"Nhập số: \"))\n",
    "if num%2 == 0:\n",
    "   print(\"Số chẵn\")\n",
    "else:\n",
    "   print(\"Số lẻ\") "
   ]
  },
  {
   "cell_type": "code",
   "execution_count": 38,
   "id": "6e49d987-0517-45cb-a1b8-3fd3537dff99",
   "metadata": {},
   "outputs": [
    {
     "name": "stdout",
     "output_type": "stream",
     "text": [
      "AI đang học lần 1\n",
      "AI đang học lần 2\n",
      "AI đang học lần 3\n",
      "Huấn luyện xong!\n"
     ]
    }
   ],
   "source": [
    "#W1A8\n",
    "for i in range(3):\n",
    "    print(\"AI đang học lần\", i + 1)\n",
    "print(\"Huấn luyện xong!\")"
   ]
  },
  {
   "cell_type": "code",
   "execution_count": 41,
   "id": "40747e4c-c532-407a-a5d5-80e1d3ddc343",
   "metadata": {},
   "outputs": [
    {
     "name": "stdout",
     "output_type": "stream",
     "text": [
      "Dự đoán con vật cat\n",
      "Dự đoán con vật dog\n",
      "Dự đoán con vật fish\n"
     ]
    }
   ],
   "source": [
    "#W1A9\n",
    "for x in [\"cat\",\"dog\",\"fish\"]:\n",
    "    print(\"Dự đoán con vật\", x)"
   ]
  },
  {
   "cell_type": "code",
   "execution_count": 42,
   "id": "031de290-990e-49a1-a2f0-1948f8d7f5bf",
   "metadata": {},
   "outputs": [
    {
     "name": "stdout",
     "output_type": "stream",
     "text": [
      "=== AI Prediction System ===\n",
      "1) Sentiment analysis\n",
      "2) Weather forecast\n",
      "3) Exit\n",
      "Please choose an option:\n"
     ]
    }
   ],
   "source": [
    "#W1A10\n",
    "# Simple menu\n",
    "print(\"=== AI Prediction System ===\")\n",
    "print(\"1) Sentiment analysis\")\n",
    "print(\"2) Weather forecast\")\n",
    "print(\"3) Exit\")\n",
    "print(\"Please choose an option:\") "
   ]
  }
 ],
 "metadata": {
  "kernelspec": {
   "display_name": "Python 3 (ipykernel)",
   "language": "python",
   "name": "python3"
  },
  "language_info": {
   "codemirror_mode": {
    "name": "ipython",
    "version": 3
   },
   "file_extension": ".py",
   "mimetype": "text/x-python",
   "name": "python",
   "nbconvert_exporter": "python",
   "pygments_lexer": "ipython3",
   "version": "3.13.5"
  }
 },
 "nbformat": 4,
 "nbformat_minor": 5
}

{
 "cells": [
  {
   "cell_type": "code",
   "execution_count": 1,
   "id": "4121df57-a589-446f-b5c1-7c14de6aa38f",
   "metadata": {},
   "outputs": [
    {
     "name": "stdout",
     "output_type": "stream",
     "text": [
      "Hello world\n"
     ]
    }
   ],
   "source": [
    "#W2A1\n",
    "print(\"Hello world\")"
   ]
  },
  {
   "cell_type": "code",
   "execution_count": 3,
   "id": "ee6a718a-20a8-474d-b766-fe2a325440f4",
   "metadata": {},
   "outputs": [
    {
     "name": "stdin",
     "output_type": "stream",
     "text": [
      " Đào\n"
     ]
    },
    {
     "name": "stdout",
     "output_type": "stream",
     "text": [
      "Xin chào Đào!\n"
     ]
    }
   ],
   "source": [
    "#W2A2\n",
    "name = input()\n",
    "print(\"Xin chào\", name + \"!\")"
   ]
  },
  {
   "cell_type": "code",
   "execution_count": 7,
   "id": "2487440b-b76c-4475-9240-a6adb39decb3",
   "metadata": {},
   "outputs": [
    {
     "name": "stdin",
     "output_type": "stream",
     "text": [
      " 5\n",
      " 6\n"
     ]
    },
    {
     "name": "stdout",
     "output_type": "stream",
     "text": [
      "Tổng:  11\n",
      "Hiệu:  -1\n",
      "Tích:  30\n",
      "Phần nguyên:  0\n",
      "Phần dư:  5\n",
      "Chia thực:  0.83\n"
     ]
    }
   ],
   "source": [
    "#W2A3\n",
    "a = int(input())\n",
    "b = int(input())\n",
    "\n",
    "tong = a+b\n",
    "hieu = a-b\n",
    "tich = a*b\n",
    "phan_nguyen = a//b\n",
    "phan_du = a%b\n",
    "chia_thuc = round(a/b, 2)\n",
    "\n",
    "print(\"Tổng: \", tong)\n",
    "print(\"Hiệu: \", hieu)\n",
    "print(\"Tích: \", tich)\n",
    "print(\"Phần nguyên: \", phan_nguyen)\n",
    "print(\"Phần dư: \", phan_du)\n",
    "print(\"Chia thực: \", chia_thuc)"
   ]
  },
  {
   "cell_type": "code",
   "execution_count": 11,
   "id": "94fa60b0-4531-4689-b453-9d924d1f704c",
   "metadata": {},
   "outputs": [
    {
     "name": "stdin",
     "output_type": "stream",
     "text": [
      " 1 2 3 4 5 6\n"
     ]
    },
    {
     "name": "stdout",
     "output_type": "stream",
     "text": [
      "Điểm trung bình là:  4.2\n"
     ]
    }
   ],
   "source": [
    "#W2A4\n",
    "a1,b1,c1,a2,b2,a3 = map(float,input().split())\n",
    "TB = ((a1+b1+c1)+(a2+b2)*2+a3*3)/10\n",
    "print(\"Điểm trung bình là: \", TB)"
   ]
  },
  {
   "cell_type": "code",
   "execution_count": 15,
   "id": "595e67d7-e0de-455b-b4a5-12dcbd3593d3",
   "metadata": {},
   "outputs": [
    {
     "name": "stdin",
     "output_type": "stream",
     "text": [
      " 5 6\n"
     ]
    },
    {
     "name": "stdout",
     "output_type": "stream",
     "text": [
      "Kết quả của 5 mũ 6 là 15625\n"
     ]
    }
   ],
   "source": [
    "#W2A5\n",
    "a, b = map(int, input().split())\n",
    "ket_qua = a ** b\n",
    "print(\"Kết quả của\", a, \"mũ\", b, \"là\", ket_qua)"
   ]
  },
  {
   "cell_type": "code",
   "execution_count": 17,
   "id": "90e90f4e-a184-4d0c-81ea-089071f1ed0f",
   "metadata": {},
   "outputs": [
    {
     "name": "stdin",
     "output_type": "stream",
     "text": [
      " a\n"
     ]
    },
    {
     "name": "stdout",
     "output_type": "stream",
     "text": [
      "Mã unicode của kí tự là: 97\n",
      "Ký tự hoa tương ứng là: A\n"
     ]
    }
   ],
   "source": [
    "#W2A6\n",
    "char = input()\n",
    "print(\"Mã unicode của kí tự là:\", ord(char))\n",
    "char_hoa = char.upper()\n",
    "print(\"Ký tự hoa tương ứng là:\", char_hoa)"
   ]
  },
  {
   "cell_type": "code",
   "execution_count": 20,
   "id": "065ba5db-b55e-4ad5-930d-e67b96a7f13c",
   "metadata": {},
   "outputs": [
    {
     "name": "stdout",
     "output_type": "stream",
     "text": [
      "512\n",
      "512\n"
     ]
    }
   ],
   "source": [
    "#W2A7\n",
    "A = ((13**2)*3)+5 \n",
    "B = 13**2*3+5\n",
    "print(A)\n",
    "print(B)"
   ]
  },
  {
   "cell_type": "code",
   "execution_count": 29,
   "id": "6059c702-057c-43bf-b446-4e845f7c46fa",
   "metadata": {},
   "outputs": [
    {
     "name": "stdin",
     "output_type": "stream",
     "text": [
      " 279\n"
     ]
    },
    {
     "name": "stdout",
     "output_type": "stream",
     "text": [
      "Nhiệt độ từ Celsius sang Fahrenheit là: 534.20\n"
     ]
    }
   ],
   "source": [
    "#W2A8\n",
    "C = float(input())\n",
    "F = 9/5*C + 32\n",
    "print(\"Nhiệt độ từ Celsius sang Fahrenheit là: {:.2f}\".format(F))"
   ]
  },
  {
   "cell_type": "code",
   "execution_count": 35,
   "id": "97b8766c-9df5-442e-b6dc-6d622ba52bc9",
   "metadata": {},
   "outputs": [
    {
     "name": "stdin",
     "output_type": "stream",
     "text": [
      " 100\n"
     ]
    },
    {
     "name": "stdout",
     "output_type": "stream",
     "text": [
      "Số tiền phải trả là: 150.00\n"
     ]
    }
   ],
   "source": [
    "#W2A9\n",
    "x = float(input())\n",
    "T = 10 + x + 0.3*x + 0.1*x\n",
    "print(\"Số tiền phải trả là: {:.2f}\".format(T))"
   ]
  },
  {
   "cell_type": "code",
   "execution_count": 1,
   "id": "719feca6-30e7-443a-93f4-f9d08c9c5454",
   "metadata": {},
   "outputs": [
    {
     "name": "stdin",
     "output_type": "stream",
     "text": [
      " helen\n",
      " keller\n",
      " bob\n"
     ]
    },
    {
     "name": "stdout",
     "output_type": "stream",
     "text": [
      "Hello bob, keller and helen\n"
     ]
    }
   ],
   "source": [
    "#2A10\n",
    "name1 = input()\n",
    "name2 = input()\n",
    "name3 = input()\n",
    "print(f\"Hello {name3}, {name2} and {name1}\")"
   ]
  },
  {
   "cell_type": "code",
   "execution_count": 1,
   "id": "e267d9d7-47d2-4837-81ac-5ebfa97694d8",
   "metadata": {},
   "outputs": [
    {
     "name": "stdout",
     "output_type": "stream",
     "text": [
      "Hello world\n"
     ]
    }
   ],
   "source": [
    "#2A11\n",
    "print(\"Hello world\")"
   ]
  }
 ],
 "metadata": {
  "kernelspec": {
   "display_name": "Python 3 (ipykernel)",
   "language": "python",
   "name": "python3"
  },
  "language_info": {
   "codemirror_mode": {
    "name": "ipython",
    "version": 3
   },
   "file_extension": ".py",
   "mimetype": "text/x-python",
   "name": "python",
   "nbconvert_exporter": "python",
   "pygments_lexer": "ipython3",
   "version": "3.13.5"
  }
 },
 "nbformat": 4,
 "nbformat_minor": 5
}

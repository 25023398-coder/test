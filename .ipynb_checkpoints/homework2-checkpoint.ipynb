{
 "cells": [
  {
   "cell_type": "code",
   "execution_count": 2,
   "id": "2b768141-a975-43a7-8ec7-5324df25bf2a",
   "metadata": {},
   "outputs": [
    {
     "name": "stdin",
     "output_type": "stream",
     "text": [
      "Chiều dài hình chữ nhật là:  5\n",
      "Chiều rộng hình chữ nhật là:  6\n"
     ]
    },
    {
     "name": "stdout",
     "output_type": "stream",
     "text": [
      "Diện tích hình chữ nhật là: 30.0\n",
      "CHuvi hình chữ nhật là: 22.0\n"
     ]
    }
   ],
   "source": [
    "#bai1\n",
    "a = float(input(\"Chiều dài hình chữ nhật là: \"))\n",
    "b = float(input(\"Chiều rộng hình chữ nhật là: \"))\n",
    "dien_tich = a*b\n",
    "chu_vi = (a+b)*2\n",
    "print(\"Diện tích hình chữ nhật là:\", dien_tich)\n",
    "print(\"CHuvi hình chữ nhật là:\", chu_vi)"
   ]
  },
  {
   "cell_type": "code",
   "execution_count": 5,
   "id": "9602793f-8bcb-48b2-b93d-6aa86d35c199",
   "metadata": {},
   "outputs": [
    {
     "name": "stdin",
     "output_type": "stream",
     "text": [
      "Bán kính hình tròn là:  7\n"
     ]
    },
    {
     "name": "stdout",
     "output_type": "stream",
     "text": [
      "Chu vi hình tròn là: 43.96\n",
      "Diện tích hình tròn là: 153.86\n"
     ]
    }
   ],
   "source": [
    "#bai2\n",
    "r = float(input(\"Bán kính hình tròn là: \"))\n",
    "chu_vi = 2*r*3.14\n",
    "dien_tich = 3.14*r**2\n",
    "print(\"Chu vi hình tròn là:\", chu_vi)\n",
    "print(\"Diện tích hình tròn là:\", dien_tich)"
   ]
  },
  {
   "cell_type": "code",
   "execution_count": 8,
   "id": "9228ba40-d4f4-4aca-abd4-22036f3c5d54",
   "metadata": {},
   "outputs": [
    {
     "name": "stdin",
     "output_type": "stream",
     "text": [
      " 3\n",
      " 3\n",
      " 5\n"
     ]
    },
    {
     "name": "stdout",
     "output_type": "stream",
     "text": [
      "Đây là ba cạnh của tam giác cân\n"
     ]
    }
   ],
   "source": [
    "#bai3\n",
    "a = float(input())\n",
    "b = float(input())\n",
    "c = float(input())\n",
    "if (a+b)>c and (a+c)>b and (b+c)>a:\n",
    "    if a==b or b==c or a==c:\n",
    "        print(\"Đây là ba cạnh của tam giác cân\")\n",
    "    elif a==b==c:\n",
    "        print(\"Đây là ba cạnh của tam giác đều\")\n",
    "    else:\n",
    "        print(\"Đây là ba cạnh của tam giác thường\")\n",
    "else:\n",
    "    print(\"Không phải ba cạnh của một tam giác\")"
   ]
  },
  {
   "cell_type": "code",
   "execution_count": 11,
   "id": "bc16b431-b7d6-41d5-b58e-27bc1b2b9c0e",
   "metadata": {},
   "outputs": [
    {
     "name": "stdin",
     "output_type": "stream",
     "text": [
      " 0\n",
      " 0\n"
     ]
    },
    {
     "name": "stdout",
     "output_type": "stream",
     "text": [
      "Phương trình có vô số nghiệm\n"
     ]
    }
   ],
   "source": [
    "#bai4\n",
    "a = float(input())\n",
    "b = float(input())\n",
    "if a==0:\n",
    "    if b==0:\n",
    "        print(\"Phương trình có vô số nghiệm\")\n",
    "    else:\n",
    "        print(\"Phương trình vô nghiệm\")\n",
    "else:\n",
    "    print(\"Nghiệm của phương trình là:\", -b/a)"
   ]
  },
  {
   "cell_type": "code",
   "execution_count": 16,
   "id": "f156cdf9-fae0-461e-bae1-1d9d495b888c",
   "metadata": {},
   "outputs": [
    {
     "name": "stdin",
     "output_type": "stream",
     "text": [
      " 1\n",
      " 3\n",
      " -1\n"
     ]
    },
    {
     "name": "stdout",
     "output_type": "stream",
     "text": [
      "Phương trình có 2 nghiệm x1 = -3.302775637731995 x2 = 0.30277563773199456\n"
     ]
    }
   ],
   "source": [
    "#bai5\n",
    "import math\n",
    "a = float(input())\n",
    "b = float(input())\n",
    "c = float(input())\n",
    "delta = b**2 - 4*a*c\n",
    "if a == 0:\n",
    "    if b == 0:\n",
    "        print(\"Phương trình vô nghiệm\")\n",
    "    else:\n",
    "        print(\"Nghiệm của phương trình là:\", -c/b)\n",
    "elif a > 0 or a < 0:\n",
    "    if delta < 0:\n",
    "        print(\"Phương trình vô nghiệm\")\n",
    "    elif delta == 0:\n",
    "        print(\"Phương trình có nghiệm kép: x1 = x2 =\", -b/2*a)\n",
    "    elif delta > 0:\n",
    "        print(\"Phương trình có 2 nghiệm x1 =\", (-b - math.sqrt(delta)) / (2*a), \"x2 =\", (-b + math.sqrt(delta)) / (2*a))"
   ]
  },
  {
   "cell_type": "code",
   "execution_count": 17,
   "id": "438e3e87-b5e5-43b4-b20c-aafe129cf50c",
   "metadata": {},
   "outputs": [
    {
     "name": "stdin",
     "output_type": "stream",
     "text": [
      " 2\n",
      " 3\n",
      " 4\n",
      " 5\n"
     ]
    },
    {
     "name": "stdout",
     "output_type": "stream",
     "text": [
      "Giá trị lớn nhất trong 4 số là 5.0\n"
     ]
    }
   ],
   "source": [
    "#bai6\n",
    "a = float(input())\n",
    "b = float(input())\n",
    "c = float(input())\n",
    "d = float(input())\n",
    "print(\"Giá trị lớn nhất trong 4 số là\", max(a,b,c,d))"
   ]
  },
  {
   "cell_type": "code",
   "execution_count": 18,
   "id": "46635584-6a22-45d8-95bc-b78f2f3fa4ce",
   "metadata": {},
   "outputs": [
    {
     "name": "stdin",
     "output_type": "stream",
     "text": [
      " 2\n",
      " 3\n",
      " 4\n",
      " 5\n"
     ]
    },
    {
     "name": "stdout",
     "output_type": "stream",
     "text": [
      "Giá trị nhỏ nhất trong 4 số là 2.0\n"
     ]
    }
   ],
   "source": [
    "#bai7\n",
    "a = float(input())\n",
    "b = float(input())\n",
    "c = float(input())\n",
    "d = float(input())\n",
    "print(\"Giá trị nhỏ nhất trong 4 số là\", min(a,b,c,d))"
   ]
  },
  {
   "cell_type": "code",
   "execution_count": null,
   "id": "e4b7ebee-d9f6-4dc9-9a58-ec70a58288b0",
   "metadata": {},
   "outputs": [],
   "source": [
    "#bai8\n"
   ]
  },
  {
   "cell_type": "code",
   "execution_count": 19,
   "id": "14a5f020-05a4-4b27-bb30-bbceecb6acfb",
   "metadata": {},
   "outputs": [
    {
     "name": "stdin",
     "output_type": "stream",
     "text": [
      "Số giây để làm một công việc là:  3600\n"
     ]
    },
    {
     "name": "stdout",
     "output_type": "stream",
     "text": [
      "Số giờ, phút, giây để hoàn thành 1 công việc là: 1.0 60.0 3600\n"
     ]
    }
   ],
   "source": [
    "#bai9\n",
    "t = int(input(\"Số giây để làm một công việc là: \"))\n",
    "so_phut = t/60\n",
    "so_gio = t/3600\n",
    "print(\"Số giờ, phút, giây để hoàn thành 1 công việc là:\", so_gio, so_phut, t)"
   ]
  },
  {
   "cell_type": "code",
   "execution_count": 1,
   "id": "3327ff38-085d-431d-8b70-80a0d203f37c",
   "metadata": {},
   "outputs": [
    {
     "name": "stdin",
     "output_type": "stream",
     "text": [
      " 4\n",
      " 45\n",
      " 6\n",
      " 7\n",
      " 8\n"
     ]
    },
    {
     "name": "stdout",
     "output_type": "stream",
     "text": [
      "A nằm ngoài đường tròn\n"
     ]
    }
   ],
   "source": [
    "#bai10\n",
    "x0 = float(input())\n",
    "y0 = float(input())\n",
    "x = float(input())\n",
    "y = float(input())\n",
    "r = float(input())\n",
    "khoang_cach = (x - x0)**2 + (y - y0)**2\n",
    "if khoang_cach == r**2:\n",
    "    print(\"A nằm trên đường tròn\")\n",
    "elif khoang_cach < r**2:\n",
    "    print(\"A nằm trong đường tròn\")\n",
    "else:\n",
    "    print(\"A nằm ngoài đường tròn\")"
   ]
  },
  {
   "cell_type": "code",
   "execution_count": 4,
   "id": "248322b1-2759-439d-afa5-932a8fe53c28",
   "metadata": {},
   "outputs": [
    {
     "name": "stdin",
     "output_type": "stream",
     "text": [
      " 2\n",
      " 3\n"
     ]
    },
    {
     "name": "stdout",
     "output_type": "stream",
     "text": [
      "8.0\n"
     ]
    }
   ],
   "source": [
    "#bai11\n",
    "x = float(input())\n",
    "y = float(input())\n",
    "print(x**y)"
   ]
  }
 ],
 "metadata": {
  "kernelspec": {
   "display_name": "Python 3 (ipykernel)",
   "language": "python",
   "name": "python3"
  },
  "language_info": {
   "codemirror_mode": {
    "name": "ipython",
    "version": 3
   },
   "file_extension": ".py",
   "mimetype": "text/x-python",
   "name": "python",
   "nbconvert_exporter": "python",
   "pygments_lexer": "ipython3",
   "version": "3.13.5"
  }
 },
 "nbformat": 4,
 "nbformat_minor": 5
}
